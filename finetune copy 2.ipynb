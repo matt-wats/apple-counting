{
 "cells": [
  {
   "cell_type": "code",
   "execution_count": 1,
   "metadata": {},
   "outputs": [],
   "source": [
    "import torch\n",
    "\n",
    "from tqdm import tqdm\n",
    "device = torch.device(\"cuda\")"
   ]
  },
  {
   "cell_type": "code",
   "execution_count": 2,
   "metadata": {},
   "outputs": [
    {
     "name": "stdout",
     "output_type": "stream",
     "text": [
      "Loaded updated model\n"
     ]
    }
   ],
   "source": [
    "from torchvision.models import mobilenet_v3_large, MobileNet_V3_Large_Weights\n",
    "\n",
    "# Using pretrained weights:\n",
    "weights = MobileNet_V3_Large_Weights.IMAGENET1K_V2\n",
    "model = mobilenet_v3_large(weights=weights).to(device)\n",
    "model.classifier = torch.nn.Sequential(\n",
    "    torch.nn.Linear(960, 960, bias=False),\n",
    "    torch.nn.BatchNorm1d(960),\n",
    "    torch.nn.Dropout(p=0.2),\n",
    "    torch.nn.ReLU(),\n",
    "    torch.nn.Linear(960, 960, bias=False),\n",
    "    torch.nn.BatchNorm1d(960),\n",
    "    torch.nn.Dropout(p=0.2),\n",
    "    torch.nn.ReLU(),\n",
    "    torch.nn.Linear(960, 7),\n",
    ").to(device)\n",
    "\n",
    "model.classifier.load_state_dict(torch.load(\"color_mobile_layers.pt\"))\n",
    "\n",
    "print(\"Loaded updated model\")"
   ]
  },
  {
   "cell_type": "code",
   "execution_count": 3,
   "metadata": {},
   "outputs": [
    {
     "data": {
      "text/plain": [
       "4825719"
      ]
     },
     "execution_count": 3,
     "metadata": {},
     "output_type": "execute_result"
    }
   ],
   "source": [
    "import torch\n",
    "\n",
    "optimizer = torch.optim.AdamW(params=[p for p in model.parameters() if p.requires_grad], lr=1e-4)\n",
    "\n",
    "lr_scheduler = torch.optim.lr_scheduler.StepLR(optimizer=optimizer, step_size=5, gamma=0.2)\n",
    "\n",
    "criterion = torch.nn.CrossEntropyLoss()\n",
    "\n",
    "losses = []\n",
    "val_losses = []\n",
    "\n",
    "sum(p.numel() for p in model.parameters())"
   ]
  },
  {
   "cell_type": "code",
   "execution_count": 4,
   "metadata": {},
   "outputs": [],
   "source": [
    "import os\n",
    "import pandas as pd\n",
    "from torchvision.io import read_image\n",
    "from PIL import Image\n",
    "from torch.utils.data import Dataset\n",
    "from torch.utils.data import DataLoader\n",
    "from torchvision import transforms as T\n",
    "\n",
    "class CountingDataset(Dataset):\n",
    "    def __init__(self, annotations_file, img_dir, transform=None):\n",
    "        self.img_labels = pd.read_csv(annotations_file)\n",
    "        self.img_dir = img_dir\n",
    "        self.transform = transform\n",
    "\n",
    "    def __len__(self):\n",
    "        return len(self.img_labels)\n",
    "\n",
    "    def __getitem__(self, idx):\n",
    "        img_path = os.path.join(self.img_dir, self.img_labels.iloc[idx, 0])\n",
    "        image = read_image(img_path, ) / 255.0\n",
    "        label = self.img_labels.iloc[idx, 1]\n",
    "        if self.transform:\n",
    "            image = self.transform(image)\n",
    "        return image, label\n",
    "    \n",
    "annotations_file = \"../Apple/counting/train/train_ground_truth.txt\"\n",
    "img_dir = \"../Apple/counting/train/images/\"\n",
    "transform = T.Compose([\n",
    "    T.ColorJitter(brightness=0.5, contrast=0.5, saturation=0.5, hue=0.5),\n",
    "    T.Resize((224,224), antialias=True),\n",
    "    T.RandomHorizontalFlip(p=0.5),\n",
    "    T.Normalize(mean=[0.485, 0.456, 0.406], std=[0.229, 0.224, 0.225]),\n",
    "])\n",
    "train_dataset = CountingDataset(annotations_file, img_dir, transform=transform)\n",
    "\n",
    "batch_size = 16\n",
    "train_dataloader = DataLoader(train_dataset, batch_size=batch_size, shuffle=True)\n",
    "\n",
    "val_annotations_file = \"../Apple/counting/val/val_ground_truth.txt\"\n",
    "val_img_dir = \"../Apple/counting/val/images/\"\n",
    "val_transform = T.Compose([\n",
    "    T.Resize((224,224), antialias=True),\n",
    "    T.Normalize(mean=[0.485, 0.456, 0.406], std=[0.229, 0.224, 0.225]),\n",
    "])\n",
    "val_dataset = CountingDataset(val_annotations_file, val_img_dir, transform=val_transform)\n",
    "\n",
    "val_batch_size = 16\n",
    "val_dataloader = DataLoader(val_dataset, batch_size=val_batch_size, shuffle=False)"
   ]
  },
  {
   "cell_type": "code",
   "execution_count": 5,
   "metadata": {},
   "outputs": [
    {
     "name": "stderr",
     "output_type": "stream",
     "text": [
      "100%|██████████| 4038/4038 [04:11<00:00, 16.08it/s]\n"
     ]
    },
    {
     "name": "stdout",
     "output_type": "stream",
     "text": [
      "(865.0, 1047)\n"
     ]
    },
    {
     "name": "stderr",
     "output_type": "stream",
     "text": [
      "100%|██████████| 4038/4038 [04:10<00:00, 16.09it/s]\n"
     ]
    },
    {
     "name": "stdout",
     "output_type": "stream",
     "text": [
      "(537.0, 636)\n"
     ]
    },
    {
     "name": "stderr",
     "output_type": "stream",
     "text": [
      "100%|██████████| 4038/4038 [04:20<00:00, 15.52it/s]\n"
     ]
    },
    {
     "name": "stdout",
     "output_type": "stream",
     "text": [
      "(438.0, 502)\n"
     ]
    },
    {
     "name": "stderr",
     "output_type": "stream",
     "text": [
      "100%|██████████| 4038/4038 [04:17<00:00, 15.71it/s]\n"
     ]
    },
    {
     "name": "stdout",
     "output_type": "stream",
     "text": [
      "(302.0, 354)\n"
     ]
    },
    {
     "name": "stderr",
     "output_type": "stream",
     "text": [
      "100%|██████████| 4038/4038 [04:09<00:00, 16.17it/s]\n"
     ]
    },
    {
     "name": "stdout",
     "output_type": "stream",
     "text": [
      "(250.0, 280)\n"
     ]
    },
    {
     "name": "stderr",
     "output_type": "stream",
     "text": [
      "100%|██████████| 4038/4038 [04:10<00:00, 16.13it/s]\n"
     ]
    },
    {
     "name": "stdout",
     "output_type": "stream",
     "text": [
      "(176.0, 200)\n"
     ]
    },
    {
     "name": "stderr",
     "output_type": "stream",
     "text": [
      "100%|██████████| 4038/4038 [04:09<00:00, 16.16it/s]\n"
     ]
    },
    {
     "name": "stdout",
     "output_type": "stream",
     "text": [
      "(166.0, 190)\n"
     ]
    },
    {
     "name": "stderr",
     "output_type": "stream",
     "text": [
      "100%|██████████| 4038/4038 [04:43<00:00, 14.26it/s]\n"
     ]
    },
    {
     "name": "stdout",
     "output_type": "stream",
     "text": [
      "(165.0, 186)\n"
     ]
    },
    {
     "name": "stderr",
     "output_type": "stream",
     "text": [
      " 17%|█▋        | 673/4038 [00:46<04:04, 13.77it/s]"
     ]
    }
   ],
   "source": [
    "num_epochs = 20\n",
    "\n",
    "for epoch in (range(num_epochs)):\n",
    "    prev_target = None\n",
    "    model.train()\n",
    "    for batch_input, batch_target in tqdm(train_dataloader):\n",
    "\n",
    "        if batch_input.shape[0] < batch_size:\n",
    "            continue\n",
    "\n",
    "        optimizer.zero_grad()\n",
    "\n",
    "        pred = model(batch_input.to(device))\n",
    "\n",
    "        loss = criterion(pred, batch_target.to(device))\n",
    "\n",
    "        loss.backward()\n",
    "        optimizer.step()\n",
    "\n",
    "        losses.append(loss.item())\n",
    "        prev_target = batch_target\n",
    "\n",
    "    model.eval()\n",
    "    with torch.no_grad():\n",
    "        val_num_examples = 0.0\n",
    "        val_num_apples = 0\n",
    "        for val_input, val_target in (val_dataloader):\n",
    "            val_pred = model(val_input.to(device))\n",
    "            val_error = torch.abs(val_target-val_pred.argmax(dim=1).cpu())\n",
    "            val_num_apples += torch.sum(val_error).item()\n",
    "            val_num_examples += torch.count_nonzero(val_error).item()\n",
    "        val_losses.append((val_num_examples, val_num_apples))\n",
    "        print((val_num_examples, val_num_apples))\n",
    "\n",
    "    torch.save(model.state_dict(), f\"mobile_states/epoch{epoch+1}.pt\")\n",
    "    lr_scheduler.step()"
   ]
  },
  {
   "cell_type": "code",
   "execution_count": null,
   "metadata": {},
   "outputs": [],
   "source": [
    "from matplotlib import pyplot as plt\n",
    "import numpy as np"
   ]
  },
  {
   "cell_type": "code",
   "execution_count": null,
   "metadata": {},
   "outputs": [
    {
     "name": "stdout",
     "output_type": "stream",
     "text": [
      "0.019288595963600264\n"
     ]
    },
    {
     "data": {
      "image/png": "[encoded data removed]",
      "text/plain": [
       "<Figure size 432x288 with 1 Axes>"
      ]
     },
     "metadata": {
      "needs_background": "light"
     },
     "output_type": "display_data"
    }
   ],
   "source": [
    "plt.semilogy(losses)\n",
    "print(np.mean(losses[-len(train_dataset)//batch_size:]))"
   ]
  },
  {
   "cell_type": "code",
   "execution_count": null,
   "metadata": {},
   "outputs": [
    {
     "data": {
      "text/plain": [
       "[(554.0, 665),\n",
       " (432.0, 529),\n",
       " (310.0, 352),\n",
       " (236.0, 261),\n",
       " (193.0, 217),\n",
       " (133.0, 146),\n",
       " (123.0, 137),\n",
       " (118.0, 133),\n",
       " (123.0, 135),\n",
       " (121.0, 132),\n",
       " (114.0, 125),\n",
       " (107.0, 119),\n",
       " (102.0, 113),\n",
       " (104.0, 116),\n",
       " (109.0, 120),\n",
       " (106.0, 118),\n",
       " (106.0, 118),\n",
       " (113.0, 125),\n",
       " (109.0, 120),\n",
       " (106.0, 117)]"
      ]
     },
     "execution_count": 8,
     "metadata": {},
     "output_type": "execute_result"
    },
    {
     "data": {
      "image/png": "[encoded data removed]",
      "text/plain": [
       "<Figure size 432x288 with 1 Axes>"
      ]
     },
     "metadata": {
      "needs_background": "light"
     },
     "output_type": "display_data"
    }
   ],
   "source": [
    "plt.plot([x[0] for x in val_losses])\n",
    "plt.plot([x[1] for x in val_losses])\n",
    "val_losses"
   ]
  },
  {
   "cell_type": "markdown",
   "metadata": {},
   "source": [
    "[(554.0, 665),\n",
    " (432.0, 529),\n",
    " (310.0, 352),\n",
    " (236.0, 261),\n",
    " (193.0, 217),\n",
    " (133.0, 146),\n",
    " (123.0, 137),\n",
    " (118.0, 133),\n",
    " (123.0, 135),\n",
    " (121.0, 132),\n",
    " (114.0, 125),\n",
    " (107.0, 119),\n",
    " (102.0, 113),\n",
    " (104.0, 116),\n",
    " (109.0, 120),\n",
    " (106.0, 118),\n",
    " (106.0, 118),\n",
    " (113.0, 125),\n",
    " (109.0, 120),\n",
    " (106.0, 117)]"
   ]
  },
  {
   "cell_type": "code",
   "execution_count": null,
   "metadata": {},
   "outputs": [
    {
     "data": {
      "text/plain": [
       "0.03122238586156112"
      ]
     },
     "execution_count": 9,
     "metadata": {},
     "output_type": "execute_result"
    }
   ],
   "source": [
    "val_losses[-1][0] / len(val_dataset)"
   ]
  }
 ],
 "metadata": {
  "kernelspec": {
   "display_name": "Python 3",
   "language": "python",
   "name": "python3"
  },
  "language_info": {
   "codemirror_mode": {
    "name": "ipython",
    "version": 3
   },
   "file_extension": ".py",
   "mimetype": "text/x-python",
   "name": "python",
   "nbconvert_exporter": "python",
   "pygments_lexer": "ipython3",
   "version": "3.9.7"
  }
 },
 "nbformat": 4,
 "nbformat_minor": 2
}
